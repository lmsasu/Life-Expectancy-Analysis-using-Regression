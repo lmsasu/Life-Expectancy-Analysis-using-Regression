{
 "cells": [
  {
   "cell_type": "code",
   "execution_count": 1,
   "metadata": {
    "ExecuteTime": {
     "end_time": "2020-11-28T22:21:58.320529Z",
     "start_time": "2020-11-28T22:21:37.356889Z"
    }
   },
   "outputs": [
    {
     "name": "stdout",
     "output_type": "stream",
     "text": [
      "numpy version: 1.17.0\n",
      "pandas version: 1.1.3\n"
     ]
    }
   ],
   "source": [
    "import numpy as np\n",
    "import pandas as pd\n",
    "import matplotlib.pyplot as plt\n",
    "import seaborn as sns\n",
    "import os\n",
    "import re\n",
    "\n",
    "print(f'numpy version: {np.__version__}')\n",
    "print(f'pandas version: {pd.__version__}')"
   ]
  },
  {
   "cell_type": "markdown",
   "metadata": {},
   "source": [
    "# Initial data knowledge"
   ]
  },
  {
   "cell_type": "markdown",
   "metadata": {},
   "source": [
    "The dataset is already provided by the business stakeholder as a zip archive. There are:\n",
    "* 4 CSV files\n",
    "* 1 Excels file\n",
    "* 1 txt file\n",
    "\n",
    "The list of data files follows:\n",
    "\n",
    "* area.csv\n",
    "* crime.csv\n",
    "* education.csv\n",
    "* income.xlsx\n",
    "* life_expectancy.csv\n",
    "* region.txt\n",
    "\n",
    "The files are described in a document, \"LE - File Description.docx\". It contains some metadata on each of the above files."
   ]
  },
  {
   "cell_type": "markdown",
   "metadata": {},
   "source": [
    "## Values for sanity checking"
   ]
  },
  {
   "cell_type": "code",
   "execution_count": 2,
   "metadata": {
    "ExecuteTime": {
     "end_time": "2020-11-28T22:21:58.332473Z",
     "start_time": "2020-11-28T22:21:58.324492Z"
    }
   },
   "outputs": [],
   "source": [
    "states = set(['Alabama', 'Alaska', 'Arizona', 'Arkansas', 'California', 'Colorado', 'Connecticut', 'Delaware', 'Florida', 'Georgia', 'Hawaii', 'Idaho', 'Illinois', 'Indiana', 'Iowa', 'Kansas', 'Kentucky', 'Louisiana', 'Maine', 'Maryland', 'Massachusetts', 'Michigan', 'Minnesota', 'Mississippi', 'Missouri', 'Montana', 'Nebraska', 'Nevada', 'New Hampshire', 'New Jersey', 'New Mexico', 'New York', 'North Carolina', 'North Dakota', 'Ohio', 'Oklahoma', 'Oregon', 'Pennsylvania', 'Rhode Island', 'South Carolina', 'South Dakota', 'Tennessee', 'Texas', 'Utah', 'Vermont', 'Virginia', 'Washington', 'West Virginia', 'Wisconsin', 'Wyoming'])\n",
    "federal_district = set(['District of Columbia'])\n",
    "inhabited_territories = set(['Puerto Rico', 'American Samoa', 'Guam', 'Northern Mariana Islands', 'U.S. Virgin Islands'])"
   ]
  },
  {
   "cell_type": "markdown",
   "metadata": {},
   "source": [
    "# Load and clean data"
   ]
  },
  {
   "cell_type": "code",
   "execution_count": 3,
   "metadata": {
    "ExecuteTime": {
     "end_time": "2020-11-28T22:21:58.347430Z",
     "start_time": "2020-11-28T22:21:58.339452Z"
    }
   },
   "outputs": [],
   "source": [
    "data_path = '../data'\n",
    "\n",
    "area_path = os.path.join(data_path, 'area.csv')\n",
    "crime_path = os.path.join(data_path, 'crime.csv')\n",
    "education_path = os.path.join(data_path, 'education.csv')\n",
    "life_expectancy_path = os.path.join(data_path, 'life_expectancy.csv')\n",
    "income_path = os.path.join(data_path, 'income.xlsx')\n",
    "region_path = os.path.join(data_path, 'region.txt')"
   ]
  },
  {
   "cell_type": "markdown",
   "metadata": {},
   "source": [
    "## Process Education file"
   ]
  },
  {
   "cell_type": "code",
   "execution_count": 4,
   "metadata": {
    "ExecuteTime": {
     "end_time": "2020-11-28T22:21:59.368460Z",
     "start_time": "2020-11-28T22:21:58.350423Z"
    }
   },
   "outputs": [
    {
     "name": "stdout",
     "output_type": "stream",
     "text": [
      "columns: Index(['State,\\nfederal district,\\nor territory',\n",
      "       '% High school graduate\\nor higher', '% Bachelor's degree\\nor higher',\n",
      "       '% Advanced degree'],\n",
      "      dtype='object')\n",
      "columns: Index(['State, federal district, or territory',\n",
      "       '% High school graduate or higher', '% Bachelor's degree or higher',\n",
      "       '% Advanced degree'],\n",
      "      dtype='object')\n"
     ]
    }
   ],
   "source": [
    "education = pd.read_csv(education_path, usecols= lambda column: 'rank' not in column, sep=';', skiprows=1)\n",
    "print(f'columns: {education.columns}')\n",
    "# remove \\n from column names\n",
    "education.columns = [item.replace('\\n', ' ') for item in education.columns]\n",
    "print(f'columns: {education.columns}')"
   ]
  },
  {
   "cell_type": "code",
   "execution_count": 5,
   "metadata": {
    "ExecuteTime": {
     "end_time": "2020-11-28T22:22:02.994340Z",
     "start_time": "2020-11-28T22:21:59.372449Z"
    }
   },
   "outputs": [
    {
     "name": "stdout",
     "output_type": "stream",
     "text": [
      "<class 'pandas.core.frame.DataFrame'>\n",
      "RangeIndex: 52 entries, 0 to 51\n",
      "Data columns (total 4 columns):\n",
      " #   Column                                 Non-Null Count  Dtype \n",
      "---  ------                                 --------------  ----- \n",
      " 0   State, federal district, or territory  52 non-null     object\n",
      " 1   % High school graduate or higher       52 non-null     object\n",
      " 2   % Bachelor's degree or higher          52 non-null     object\n",
      " 3   % Advanced degree                      52 non-null     object\n",
      "dtypes: object(4)\n",
      "memory usage: 1.8+ KB\n"
     ]
    }
   ],
   "source": [
    "# inspect data types\n",
    "education.info()"
   ]
  },
  {
   "cell_type": "code",
   "execution_count": 6,
   "metadata": {
    "ExecuteTime": {
     "end_time": "2020-11-28T22:22:03.007305Z",
     "start_time": "2020-11-28T22:22:02.998329Z"
    }
   },
   "outputs": [],
   "source": [
    "# convert columns with numbers into floating point values\n",
    "for column in education.columns:\n",
    "    if '%' in column and education[column].dtype != np.dtype(np.float):\n",
    "        education[column] = education[column].apply(lambda x: 1.0/100.0 * float(x.strip(' %')))"
   ]
  },
  {
   "cell_type": "code",
   "execution_count": 7,
   "metadata": {
    "ExecuteTime": {
     "end_time": "2020-11-28T22:22:03.033242Z",
     "start_time": "2020-11-28T22:22:03.011296Z"
    }
   },
   "outputs": [
    {
     "name": "stdout",
     "output_type": "stream",
     "text": [
      "<class 'pandas.core.frame.DataFrame'>\n",
      "RangeIndex: 52 entries, 0 to 51\n",
      "Data columns (total 4 columns):\n",
      " #   Column                                 Non-Null Count  Dtype  \n",
      "---  ------                                 --------------  -----  \n",
      " 0   State, federal district, or territory  52 non-null     object \n",
      " 1   % High school graduate or higher       52 non-null     float64\n",
      " 2   % Bachelor's degree or higher          52 non-null     float64\n",
      " 3   % Advanced degree                      52 non-null     float64\n",
      "dtypes: float64(3), object(1)\n",
      "memory usage: 1.8+ KB\n"
     ]
    }
   ],
   "source": [
    "education.info()"
   ]
  },
  {
   "cell_type": "code",
   "execution_count": 8,
   "metadata": {
    "ExecuteTime": {
     "end_time": "2020-11-28T22:22:03.053186Z",
     "start_time": "2020-11-28T22:22:03.038224Z"
    }
   },
   "outputs": [],
   "source": [
    "# convert first column name from 'State, federal district, or territory' to 'State'\n",
    "if education.columns[0] == 'State, federal district, or territory':\n",
    "    education.rename(columns={'State, federal district, or territory': 'State'}, inplace=True)\n",
    "if 'State' in set(education.columns):\n",
    "    # Remove leading spaces in state names\n",
    "    education.State = education.State.apply(lambda x: x.strip())\n",
    "    education.set_index('State', inplace=True, verify_integrity = True)\n",
    "    education.drop(labels='United States', inplace=True)\n",
    "education.sort_index(inplace=True)\n"
   ]
  },
  {
   "cell_type": "code",
   "execution_count": 9,
   "metadata": {
    "ExecuteTime": {
     "end_time": "2020-11-28T22:22:03.066149Z",
     "start_time": "2020-11-28T22:22:03.057172Z"
    }
   },
   "outputs": [
    {
     "name": "stdout",
     "output_type": "stream",
     "text": [
      "{'District of Columbia'}\n"
     ]
    }
   ],
   "source": [
    "# check if states name is inside the set of 50 states + federal_district + inhabited_territories\n",
    "\n",
    "assert set(education.index).issubset(states.union(federal_district).union(inhabited_territories))\n",
    "\n",
    "print(set(education.index).difference(states))"
   ]
  },
  {
   "cell_type": "code",
   "execution_count": 10,
   "metadata": {
    "ExecuteTime": {
     "end_time": "2020-11-28T22:22:03.085100Z",
     "start_time": "2020-11-28T22:22:03.069140Z"
    }
   },
   "outputs": [
    {
     "name": "stdout",
     "output_type": "stream",
     "text": [
      "<class 'pandas.core.frame.DataFrame'>\n",
      "Index: 51 entries, Alabama to Wyoming\n",
      "Data columns (total 3 columns):\n",
      " #   Column                            Non-Null Count  Dtype  \n",
      "---  ------                            --------------  -----  \n",
      " 0   % High school graduate or higher  51 non-null     float64\n",
      " 1   % Bachelor's degree or higher     51 non-null     float64\n",
      " 2   % Advanced degree                 51 non-null     float64\n",
      "dtypes: float64(3)\n",
      "memory usage: 1.6+ KB\n"
     ]
    }
   ],
   "source": [
    "education.info()"
   ]
  },
  {
   "cell_type": "code",
   "execution_count": 11,
   "metadata": {
    "ExecuteTime": {
     "end_time": "2020-11-28T22:22:03.100058Z",
     "start_time": "2020-11-28T22:22:03.088089Z"
    }
   },
   "outputs": [
    {
     "data": {
      "text/plain": [
       "% High school graduate or higher    0\n",
       "% Bachelor's degree or higher       0\n",
       "% Advanced degree                   0\n",
       "dtype: int64"
      ]
     },
     "execution_count": 11,
     "metadata": {},
     "output_type": "execute_result"
    }
   ],
   "source": [
    "# get count of missing values per column\n",
    "education.isna().sum(axis=0)"
   ]
  },
  {
   "cell_type": "code",
   "execution_count": 12,
   "metadata": {
    "ExecuteTime": {
     "end_time": "2020-11-28T22:22:03.110030Z",
     "start_time": "2020-11-28T22:22:03.103049Z"
    }
   },
   "outputs": [
    {
     "data": {
      "text/plain": [
       "(51, 3)"
      ]
     },
     "execution_count": 12,
     "metadata": {},
     "output_type": "execute_result"
    }
   ],
   "source": [
    "education.shape"
   ]
  },
  {
   "cell_type": "code",
   "execution_count": 13,
   "metadata": {
    "ExecuteTime": {
     "end_time": "2020-11-28T22:22:03.263913Z",
     "start_time": "2020-11-28T22:22:03.113024Z"
    }
   },
   "outputs": [],
   "source": [
    "education.to_csv(os.path.join(data_path, 'education_clean.csv'))"
   ]
  },
  {
   "cell_type": "markdown",
   "metadata": {},
   "source": [
    "## Process Life Expectancy file"
   ]
  },
  {
   "cell_type": "code",
   "execution_count": 14,
   "metadata": {
    "ExecuteTime": {
     "end_time": "2020-11-28T22:22:03.290841Z",
     "start_time": "2020-11-28T22:22:03.266905Z"
    }
   },
   "outputs": [
    {
     "data": {
      "text/plain": [
       "(57, 5)"
      ]
     },
     "execution_count": 14,
     "metadata": {},
     "output_type": "execute_result"
    }
   ],
   "source": [
    "life_expectancy = pd.read_csv(life_expectancy_path, sep=';')\n",
    "life_expectancy.shape"
   ]
  },
  {
   "cell_type": "code",
   "execution_count": 15,
   "metadata": {
    "ExecuteTime": {
     "end_time": "2020-11-28T22:22:03.300814Z",
     "start_time": "2020-11-28T22:22:03.293834Z"
    }
   },
   "outputs": [
    {
     "data": {
      "text/plain": [
       "Index(['State', 'LifeExp2018', 'LifeExp2010', 'MaleLifeExp', 'FemLifeExp'], dtype='object')"
      ]
     },
     "execution_count": 15,
     "metadata": {},
     "output_type": "execute_result"
    }
   ],
   "source": [
    "life_expectancy.columns"
   ]
  },
  {
   "cell_type": "code",
   "execution_count": 16,
   "metadata": {
    "ExecuteTime": {
     "end_time": "2020-11-28T22:22:03.757418Z",
     "start_time": "2020-11-28T22:22:03.303804Z"
    }
   },
   "outputs": [
    {
     "name": "stdout",
     "output_type": "stream",
     "text": [
      "<class 'pandas.core.frame.DataFrame'>\n",
      "RangeIndex: 57 entries, 0 to 56\n",
      "Data columns (total 5 columns):\n",
      " #   Column       Non-Null Count  Dtype  \n",
      "---  ------       --------------  -----  \n",
      " 0   State        57 non-null     object \n",
      " 1   LifeExp2018  57 non-null     object \n",
      " 2   LifeExp2010  57 non-null     float64\n",
      " 3   MaleLifeExp  57 non-null     float64\n",
      " 4   FemLifeExp   57 non-null     float64\n",
      "dtypes: float64(3), object(2)\n",
      "memory usage: 2.4+ KB\n"
     ]
    }
   ],
   "source": [
    "life_expectancy.info()"
   ]
  },
  {
   "cell_type": "code",
   "execution_count": 17,
   "metadata": {
    "ExecuteTime": {
     "end_time": "2020-11-28T22:22:04.775950Z",
     "start_time": "2020-11-28T22:22:03.764399Z"
    }
   },
   "outputs": [],
   "source": [
    "life_expectancy.State = life_expectancy.State.apply(lambda state: state.strip())"
   ]
  },
  {
   "cell_type": "code",
   "execution_count": 18,
   "metadata": {
    "ExecuteTime": {
     "end_time": "2020-11-28T22:22:04.787921Z",
     "start_time": "2020-11-28T22:22:04.778943Z"
    }
   },
   "outputs": [],
   "source": [
    "life_expectancy.drop(life_expectancy[life_expectancy.State == 'United States'].index, inplace=True)"
   ]
  },
  {
   "cell_type": "code",
   "execution_count": 19,
   "metadata": {
    "ExecuteTime": {
     "end_time": "2020-11-28T22:22:04.807870Z",
     "start_time": "2020-11-28T22:22:04.790912Z"
    }
   },
   "outputs": [
    {
     "name": "stdout",
     "output_type": "stream",
     "text": [
      "<class 'pandas.core.frame.DataFrame'>\n",
      "Int64Index: 56 entries, 0 to 56\n",
      "Data columns (total 5 columns):\n",
      " #   Column       Non-Null Count  Dtype  \n",
      "---  ------       --------------  -----  \n",
      " 0   State        56 non-null     object \n",
      " 1   LifeExp2018  56 non-null     float64\n",
      " 2   LifeExp2010  56 non-null     float64\n",
      " 3   MaleLifeExp  56 non-null     float64\n",
      " 4   FemLifeExp   56 non-null     float64\n",
      "dtypes: float64(4), object(1)\n",
      "memory usage: 2.6+ KB\n"
     ]
    }
   ],
   "source": [
    "# convert column LifeExp2018\n",
    "life_expectancy.LifeExp2018 = life_expectancy.LifeExp2018.apply(lambda value: float(value.strip()))\n",
    "life_expectancy.info()"
   ]
  },
  {
   "cell_type": "code",
   "execution_count": 20,
   "metadata": {
    "ExecuteTime": {
     "end_time": "2020-11-28T22:22:04.845764Z",
     "start_time": "2020-11-28T22:22:04.809860Z"
    }
   },
   "outputs": [
    {
     "data": {
      "text/html": [
       "<div>\n",
       "<style scoped>\n",
       "    .dataframe tbody tr th:only-of-type {\n",
       "        vertical-align: middle;\n",
       "    }\n",
       "\n",
       "    .dataframe tbody tr th {\n",
       "        vertical-align: top;\n",
       "    }\n",
       "\n",
       "    .dataframe thead th {\n",
       "        text-align: right;\n",
       "    }\n",
       "</style>\n",
       "<table border=\"1\" class=\"dataframe\">\n",
       "  <thead>\n",
       "    <tr style=\"text-align: right;\">\n",
       "      <th></th>\n",
       "      <th>State</th>\n",
       "      <th>LifeExp2018</th>\n",
       "      <th>LifeExp2010</th>\n",
       "      <th>MaleLifeExp</th>\n",
       "      <th>FemLifeExp</th>\n",
       "    </tr>\n",
       "  </thead>\n",
       "  <tbody>\n",
       "    <tr>\n",
       "      <th>0</th>\n",
       "      <td>Hawaii</td>\n",
       "      <td>82.3</td>\n",
       "      <td>81.4</td>\n",
       "      <td>79.3</td>\n",
       "      <td>85.3</td>\n",
       "    </tr>\n",
       "    <tr>\n",
       "      <th>1</th>\n",
       "      <td>California</td>\n",
       "      <td>81.6</td>\n",
       "      <td>80.6</td>\n",
       "      <td>79.4</td>\n",
       "      <td>83.8</td>\n",
       "    </tr>\n",
       "    <tr>\n",
       "      <th>2</th>\n",
       "      <td>Puerto Rico</td>\n",
       "      <td>81.3</td>\n",
       "      <td>78.7</td>\n",
       "      <td>77.6</td>\n",
       "      <td>84.7</td>\n",
       "    </tr>\n",
       "    <tr>\n",
       "      <th>3</th>\n",
       "      <td>New York</td>\n",
       "      <td>81.3</td>\n",
       "      <td>80.3</td>\n",
       "      <td>79.0</td>\n",
       "      <td>83.4</td>\n",
       "    </tr>\n",
       "    <tr>\n",
       "      <th>4</th>\n",
       "      <td>U.S. Virgin Islands</td>\n",
       "      <td>81.2</td>\n",
       "      <td>79.2</td>\n",
       "      <td>76.3</td>\n",
       "      <td>85.6</td>\n",
       "    </tr>\n",
       "    <tr>\n",
       "      <th>5</th>\n",
       "      <td>Minnesota</td>\n",
       "      <td>81.0</td>\n",
       "      <td>80.8</td>\n",
       "      <td>79.0</td>\n",
       "      <td>83.0</td>\n",
       "    </tr>\n",
       "    <tr>\n",
       "      <th>6</th>\n",
       "      <td>Connecticut</td>\n",
       "      <td>80.9</td>\n",
       "      <td>80.7</td>\n",
       "      <td>78.7</td>\n",
       "      <td>83.0</td>\n",
       "    </tr>\n",
       "    <tr>\n",
       "      <th>7</th>\n",
       "      <td>Guam</td>\n",
       "      <td>80.7</td>\n",
       "      <td>78.2</td>\n",
       "      <td>77.6</td>\n",
       "      <td>83.8</td>\n",
       "    </tr>\n",
       "    <tr>\n",
       "      <th>8</th>\n",
       "      <td>Colorado</td>\n",
       "      <td>80.5</td>\n",
       "      <td>80.1</td>\n",
       "      <td>78.5</td>\n",
       "      <td>82.5</td>\n",
       "    </tr>\n",
       "    <tr>\n",
       "      <th>9</th>\n",
       "      <td>Massachusetts</td>\n",
       "      <td>80.5</td>\n",
       "      <td>80.5</td>\n",
       "      <td>78.2</td>\n",
       "      <td>82.6</td>\n",
       "    </tr>\n",
       "    <tr>\n",
       "      <th>10</th>\n",
       "      <td>Washington</td>\n",
       "      <td>80.4</td>\n",
       "      <td>80.1</td>\n",
       "      <td>78.4</td>\n",
       "      <td>82.4</td>\n",
       "    </tr>\n",
       "    <tr>\n",
       "      <th>11</th>\n",
       "      <td>New Jersey</td>\n",
       "      <td>80.4</td>\n",
       "      <td>80.0</td>\n",
       "      <td>78.2</td>\n",
       "      <td>82.5</td>\n",
       "    </tr>\n",
       "    <tr>\n",
       "      <th>12</th>\n",
       "      <td>Florida</td>\n",
       "      <td>80.0</td>\n",
       "      <td>79.0</td>\n",
       "      <td>77.3</td>\n",
       "      <td>82.6</td>\n",
       "    </tr>\n",
       "    <tr>\n",
       "      <th>13</th>\n",
       "      <td>Arizona</td>\n",
       "      <td>79.9</td>\n",
       "      <td>79.3</td>\n",
       "      <td>77.5</td>\n",
       "      <td>82.3</td>\n",
       "    </tr>\n",
       "    <tr>\n",
       "      <th>14</th>\n",
       "      <td>Rhode Island</td>\n",
       "      <td>79.9</td>\n",
       "      <td>79.5</td>\n",
       "      <td>77.7</td>\n",
       "      <td>82.1</td>\n",
       "    </tr>\n",
       "    <tr>\n",
       "      <th>15</th>\n",
       "      <td>North Dakota</td>\n",
       "      <td>79.9</td>\n",
       "      <td>79.7</td>\n",
       "      <td>77.6</td>\n",
       "      <td>82.5</td>\n",
       "    </tr>\n",
       "    <tr>\n",
       "      <th>16</th>\n",
       "      <td>Utah</td>\n",
       "      <td>79.9</td>\n",
       "      <td>79.8</td>\n",
       "      <td>78.2</td>\n",
       "      <td>81.6</td>\n",
       "    </tr>\n",
       "    <tr>\n",
       "      <th>17</th>\n",
       "      <td>Oregon</td>\n",
       "      <td>79.8</td>\n",
       "      <td>79.5</td>\n",
       "      <td>77.8</td>\n",
       "      <td>81.9</td>\n",
       "    </tr>\n",
       "    <tr>\n",
       "      <th>18</th>\n",
       "      <td>Vermont</td>\n",
       "      <td>79.7</td>\n",
       "      <td>80.1</td>\n",
       "      <td>77.8</td>\n",
       "      <td>81.7</td>\n",
       "    </tr>\n",
       "    <tr>\n",
       "      <th>19</th>\n",
       "      <td>Nebraska</td>\n",
       "      <td>79.6</td>\n",
       "      <td>79.7</td>\n",
       "      <td>77.4</td>\n",
       "      <td>81.7</td>\n",
       "    </tr>\n",
       "    <tr>\n",
       "      <th>20</th>\n",
       "      <td>Virginia</td>\n",
       "      <td>79.5</td>\n",
       "      <td>79.1</td>\n",
       "      <td>77.4</td>\n",
       "      <td>81.5</td>\n",
       "    </tr>\n",
       "    <tr>\n",
       "      <th>21</th>\n",
       "      <td>New Hampshire</td>\n",
       "      <td>79.5</td>\n",
       "      <td>80.3</td>\n",
       "      <td>77.5</td>\n",
       "      <td>81.4</td>\n",
       "    </tr>\n",
       "    <tr>\n",
       "      <th>22</th>\n",
       "      <td>Iowa</td>\n",
       "      <td>79.4</td>\n",
       "      <td>79.6</td>\n",
       "      <td>77.2</td>\n",
       "      <td>81.6</td>\n",
       "    </tr>\n",
       "    <tr>\n",
       "      <th>23</th>\n",
       "      <td>Wisconsin</td>\n",
       "      <td>79.4</td>\n",
       "      <td>79.6</td>\n",
       "      <td>77.3</td>\n",
       "      <td>81.5</td>\n",
       "    </tr>\n",
       "    <tr>\n",
       "      <th>24</th>\n",
       "      <td>Illinois</td>\n",
       "      <td>79.3</td>\n",
       "      <td>79.0</td>\n",
       "      <td>77.0</td>\n",
       "      <td>81.6</td>\n",
       "    </tr>\n",
       "    <tr>\n",
       "      <th>25</th>\n",
       "      <td>Idaho</td>\n",
       "      <td>79.3</td>\n",
       "      <td>79.4</td>\n",
       "      <td>77.4</td>\n",
       "      <td>81.2</td>\n",
       "    </tr>\n",
       "    <tr>\n",
       "      <th>26</th>\n",
       "      <td>Texas</td>\n",
       "      <td>79.1</td>\n",
       "      <td>78.4</td>\n",
       "      <td>76.8</td>\n",
       "      <td>81.5</td>\n",
       "    </tr>\n",
       "    <tr>\n",
       "      <th>27</th>\n",
       "      <td>Maryland</td>\n",
       "      <td>79.1</td>\n",
       "      <td>79.0</td>\n",
       "      <td>76.7</td>\n",
       "      <td>81.4</td>\n",
       "    </tr>\n",
       "    <tr>\n",
       "      <th>28</th>\n",
       "      <td>South Dakota</td>\n",
       "      <td>79.1</td>\n",
       "      <td>79.3</td>\n",
       "      <td>76.7</td>\n",
       "      <td>81.6</td>\n",
       "    </tr>\n",
       "    <tr>\n",
       "      <th>29</th>\n",
       "      <td>Wyoming</td>\n",
       "      <td>79.0</td>\n",
       "      <td>78.1</td>\n",
       "      <td>77.1</td>\n",
       "      <td>81.1</td>\n",
       "    </tr>\n",
       "    <tr>\n",
       "      <th>30</th>\n",
       "      <td>Alaska</td>\n",
       "      <td>78.8</td>\n",
       "      <td>78.0</td>\n",
       "      <td>76.7</td>\n",
       "      <td>81.2</td>\n",
       "    </tr>\n",
       "    <tr>\n",
       "      <th>31</th>\n",
       "      <td>Montana</td>\n",
       "      <td>78.8</td>\n",
       "      <td>78.5</td>\n",
       "      <td>76.8</td>\n",
       "      <td>81.0</td>\n",
       "    </tr>\n",
       "    <tr>\n",
       "      <th>33</th>\n",
       "      <td>Maine</td>\n",
       "      <td>78.7</td>\n",
       "      <td>79.1</td>\n",
       "      <td>76.6</td>\n",
       "      <td>81.0</td>\n",
       "    </tr>\n",
       "    <tr>\n",
       "      <th>34</th>\n",
       "      <td>District of Columbia</td>\n",
       "      <td>78.6</td>\n",
       "      <td>76.5</td>\n",
       "      <td>75.7</td>\n",
       "      <td>81.3</td>\n",
       "    </tr>\n",
       "    <tr>\n",
       "      <th>35</th>\n",
       "      <td>Nevada</td>\n",
       "      <td>78.5</td>\n",
       "      <td>77.8</td>\n",
       "      <td>76.1</td>\n",
       "      <td>81.0</td>\n",
       "    </tr>\n",
       "    <tr>\n",
       "      <th>36</th>\n",
       "      <td>Kansas</td>\n",
       "      <td>78.5</td>\n",
       "      <td>78.6</td>\n",
       "      <td>76.3</td>\n",
       "      <td>80.7</td>\n",
       "    </tr>\n",
       "    <tr>\n",
       "      <th>37</th>\n",
       "      <td>Delaware</td>\n",
       "      <td>78.4</td>\n",
       "      <td>78.3</td>\n",
       "      <td>76.2</td>\n",
       "      <td>80.6</td>\n",
       "    </tr>\n",
       "    <tr>\n",
       "      <th>38</th>\n",
       "      <td>Pennsylvania</td>\n",
       "      <td>78.3</td>\n",
       "      <td>78.5</td>\n",
       "      <td>75.8</td>\n",
       "      <td>80.6</td>\n",
       "    </tr>\n",
       "    <tr>\n",
       "      <th>39</th>\n",
       "      <td>New Mexico</td>\n",
       "      <td>78.1</td>\n",
       "      <td>78.2</td>\n",
       "      <td>75.3</td>\n",
       "      <td>81.0</td>\n",
       "    </tr>\n",
       "    <tr>\n",
       "      <th>40</th>\n",
       "      <td>North Carolina</td>\n",
       "      <td>78.0</td>\n",
       "      <td>77.8</td>\n",
       "      <td>75.5</td>\n",
       "      <td>80.3</td>\n",
       "    </tr>\n",
       "    <tr>\n",
       "      <th>41</th>\n",
       "      <td>Michigan</td>\n",
       "      <td>78.0</td>\n",
       "      <td>78.0</td>\n",
       "      <td>75.7</td>\n",
       "      <td>80.2</td>\n",
       "    </tr>\n",
       "    <tr>\n",
       "      <th>42</th>\n",
       "      <td>Georgia</td>\n",
       "      <td>77.8</td>\n",
       "      <td>77.3</td>\n",
       "      <td>75.4</td>\n",
       "      <td>80.0</td>\n",
       "    </tr>\n",
       "    <tr>\n",
       "      <th>43</th>\n",
       "      <td>Missouri</td>\n",
       "      <td>77.3</td>\n",
       "      <td>77.4</td>\n",
       "      <td>74.9</td>\n",
       "      <td>79.8</td>\n",
       "    </tr>\n",
       "    <tr>\n",
       "      <th>44</th>\n",
       "      <td>South Carolina</td>\n",
       "      <td>77.0</td>\n",
       "      <td>76.8</td>\n",
       "      <td>74.4</td>\n",
       "      <td>79.6</td>\n",
       "    </tr>\n",
       "    <tr>\n",
       "      <th>45</th>\n",
       "      <td>Indiana</td>\n",
       "      <td>77.0</td>\n",
       "      <td>77.5</td>\n",
       "      <td>74.6</td>\n",
       "      <td>79.3</td>\n",
       "    </tr>\n",
       "    <tr>\n",
       "      <th>46</th>\n",
       "      <td>Ohio</td>\n",
       "      <td>76.9</td>\n",
       "      <td>77.7</td>\n",
       "      <td>74.6</td>\n",
       "      <td>79.2</td>\n",
       "    </tr>\n",
       "    <tr>\n",
       "      <th>47</th>\n",
       "      <td>Northern Mariana Islands</td>\n",
       "      <td>76.4</td>\n",
       "      <td>76.9</td>\n",
       "      <td>73.6</td>\n",
       "      <td>79.3</td>\n",
       "    </tr>\n",
       "    <tr>\n",
       "      <th>48</th>\n",
       "      <td>Louisiana</td>\n",
       "      <td>76.1</td>\n",
       "      <td>75.8</td>\n",
       "      <td>73.4</td>\n",
       "      <td>79.0</td>\n",
       "    </tr>\n",
       "    <tr>\n",
       "      <th>49</th>\n",
       "      <td>Oklahoma</td>\n",
       "      <td>76.0</td>\n",
       "      <td>75.7</td>\n",
       "      <td>73.7</td>\n",
       "      <td>78.4</td>\n",
       "    </tr>\n",
       "    <tr>\n",
       "      <th>50</th>\n",
       "      <td>Tennessee</td>\n",
       "      <td>76.0</td>\n",
       "      <td>76.2</td>\n",
       "      <td>73.3</td>\n",
       "      <td>78.6</td>\n",
       "    </tr>\n",
       "    <tr>\n",
       "      <th>51</th>\n",
       "      <td>Arkansas</td>\n",
       "      <td>75.9</td>\n",
       "      <td>76.0</td>\n",
       "      <td>73.1</td>\n",
       "      <td>78.6</td>\n",
       "    </tr>\n",
       "    <tr>\n",
       "      <th>52</th>\n",
       "      <td>Alabama</td>\n",
       "      <td>75.4</td>\n",
       "      <td>75.4</td>\n",
       "      <td>72.6</td>\n",
       "      <td>78.1</td>\n",
       "    </tr>\n",
       "    <tr>\n",
       "      <th>53</th>\n",
       "      <td>Kentucky</td>\n",
       "      <td>75.4</td>\n",
       "      <td>75.9</td>\n",
       "      <td>72.8</td>\n",
       "      <td>77.9</td>\n",
       "    </tr>\n",
       "    <tr>\n",
       "      <th>54</th>\n",
       "      <td>Mississippi</td>\n",
       "      <td>74.9</td>\n",
       "      <td>74.8</td>\n",
       "      <td>71.9</td>\n",
       "      <td>78.0</td>\n",
       "    </tr>\n",
       "    <tr>\n",
       "      <th>55</th>\n",
       "      <td>American Samoa</td>\n",
       "      <td>74.8</td>\n",
       "      <td>74.0</td>\n",
       "      <td>73.0</td>\n",
       "      <td>77.0</td>\n",
       "    </tr>\n",
       "    <tr>\n",
       "      <th>56</th>\n",
       "      <td>West Virginia</td>\n",
       "      <td>74.8</td>\n",
       "      <td>75.5</td>\n",
       "      <td>72.4</td>\n",
       "      <td>77.4</td>\n",
       "    </tr>\n",
       "  </tbody>\n",
       "</table>\n",
       "</div>"
      ],
      "text/plain": [
       "                       State  LifeExp2018  LifeExp2010  MaleLifeExp  \\\n",
       "0                     Hawaii         82.3         81.4         79.3   \n",
       "1                 California         81.6         80.6         79.4   \n",
       "2                Puerto Rico         81.3         78.7         77.6   \n",
       "3                   New York         81.3         80.3         79.0   \n",
       "4        U.S. Virgin Islands         81.2         79.2         76.3   \n",
       "5                  Minnesota         81.0         80.8         79.0   \n",
       "6                Connecticut         80.9         80.7         78.7   \n",
       "7                       Guam         80.7         78.2         77.6   \n",
       "8                   Colorado         80.5         80.1         78.5   \n",
       "9              Massachusetts         80.5         80.5         78.2   \n",
       "10                Washington         80.4         80.1         78.4   \n",
       "11                New Jersey         80.4         80.0         78.2   \n",
       "12                   Florida         80.0         79.0         77.3   \n",
       "13                   Arizona         79.9         79.3         77.5   \n",
       "14              Rhode Island         79.9         79.5         77.7   \n",
       "15              North Dakota         79.9         79.7         77.6   \n",
       "16                      Utah         79.9         79.8         78.2   \n",
       "17                    Oregon         79.8         79.5         77.8   \n",
       "18                   Vermont         79.7         80.1         77.8   \n",
       "19                  Nebraska         79.6         79.7         77.4   \n",
       "20                  Virginia         79.5         79.1         77.4   \n",
       "21             New Hampshire         79.5         80.3         77.5   \n",
       "22                      Iowa         79.4         79.6         77.2   \n",
       "23                 Wisconsin         79.4         79.6         77.3   \n",
       "24                  Illinois         79.3         79.0         77.0   \n",
       "25                     Idaho         79.3         79.4         77.4   \n",
       "26                     Texas         79.1         78.4         76.8   \n",
       "27                  Maryland         79.1         79.0         76.7   \n",
       "28              South Dakota         79.1         79.3         76.7   \n",
       "29                   Wyoming         79.0         78.1         77.1   \n",
       "30                    Alaska         78.8         78.0         76.7   \n",
       "31                   Montana         78.8         78.5         76.8   \n",
       "33                     Maine         78.7         79.1         76.6   \n",
       "34      District of Columbia         78.6         76.5         75.7   \n",
       "35                    Nevada         78.5         77.8         76.1   \n",
       "36                    Kansas         78.5         78.6         76.3   \n",
       "37                  Delaware         78.4         78.3         76.2   \n",
       "38              Pennsylvania         78.3         78.5         75.8   \n",
       "39                New Mexico         78.1         78.2         75.3   \n",
       "40            North Carolina         78.0         77.8         75.5   \n",
       "41                  Michigan         78.0         78.0         75.7   \n",
       "42                   Georgia         77.8         77.3         75.4   \n",
       "43                  Missouri         77.3         77.4         74.9   \n",
       "44            South Carolina         77.0         76.8         74.4   \n",
       "45                   Indiana         77.0         77.5         74.6   \n",
       "46                      Ohio         76.9         77.7         74.6   \n",
       "47  Northern Mariana Islands         76.4         76.9         73.6   \n",
       "48                 Louisiana         76.1         75.8         73.4   \n",
       "49                  Oklahoma         76.0         75.7         73.7   \n",
       "50                 Tennessee         76.0         76.2         73.3   \n",
       "51                  Arkansas         75.9         76.0         73.1   \n",
       "52                   Alabama         75.4         75.4         72.6   \n",
       "53                  Kentucky         75.4         75.9         72.8   \n",
       "54               Mississippi         74.9         74.8         71.9   \n",
       "55            American Samoa         74.8         74.0         73.0   \n",
       "56             West Virginia         74.8         75.5         72.4   \n",
       "\n",
       "    FemLifeExp  \n",
       "0         85.3  \n",
       "1         83.8  \n",
       "2         84.7  \n",
       "3         83.4  \n",
       "4         85.6  \n",
       "5         83.0  \n",
       "6         83.0  \n",
       "7         83.8  \n",
       "8         82.5  \n",
       "9         82.6  \n",
       "10        82.4  \n",
       "11        82.5  \n",
       "12        82.6  \n",
       "13        82.3  \n",
       "14        82.1  \n",
       "15        82.5  \n",
       "16        81.6  \n",
       "17        81.9  \n",
       "18        81.7  \n",
       "19        81.7  \n",
       "20        81.5  \n",
       "21        81.4  \n",
       "22        81.6  \n",
       "23        81.5  \n",
       "24        81.6  \n",
       "25        81.2  \n",
       "26        81.5  \n",
       "27        81.4  \n",
       "28        81.6  \n",
       "29        81.1  \n",
       "30        81.2  \n",
       "31        81.0  \n",
       "33        81.0  \n",
       "34        81.3  \n",
       "35        81.0  \n",
       "36        80.7  \n",
       "37        80.6  \n",
       "38        80.6  \n",
       "39        81.0  \n",
       "40        80.3  \n",
       "41        80.2  \n",
       "42        80.0  \n",
       "43        79.8  \n",
       "44        79.6  \n",
       "45        79.3  \n",
       "46        79.2  \n",
       "47        79.3  \n",
       "48        79.0  \n",
       "49        78.4  \n",
       "50        78.6  \n",
       "51        78.6  \n",
       "52        78.1  \n",
       "53        77.9  \n",
       "54        78.0  \n",
       "55        77.0  \n",
       "56        77.4  "
      ]
     },
     "execution_count": 20,
     "metadata": {},
     "output_type": "execute_result"
    }
   ],
   "source": [
    "life_expectancy"
   ]
  },
  {
   "cell_type": "code",
   "execution_count": 21,
   "metadata": {
    "ExecuteTime": {
     "end_time": "2020-11-28T22:22:04.852744Z",
     "start_time": "2020-11-28T22:22:04.847760Z"
    }
   },
   "outputs": [],
   "source": [
    "if 'State' in life_expectancy.columns:\n",
    "    life_expectancy.set_index('State', inplace=True)\n",
    "assert set(life_expectancy.index)  == set(states).union(set(inhabited_territories)).union(federal_district)"
   ]
  },
  {
   "cell_type": "code",
   "execution_count": 22,
   "metadata": {
    "ExecuteTime": {
     "end_time": "2020-11-28T22:22:04.859803Z",
     "start_time": "2020-11-28T22:22:04.854739Z"
    }
   },
   "outputs": [],
   "source": [
    "life_expectancy.sort_index(inplace=True)"
   ]
  },
  {
   "cell_type": "code",
   "execution_count": 23,
   "metadata": {
    "ExecuteTime": {
     "end_time": "2020-11-28T22:22:04.872691Z",
     "start_time": "2020-11-28T22:22:04.864738Z"
    }
   },
   "outputs": [
    {
     "name": "stdout",
     "output_type": "stream",
     "text": [
      "<class 'pandas.core.frame.DataFrame'>\n",
      "Index: 56 entries, Alabama to Wyoming\n",
      "Data columns (total 4 columns):\n",
      " #   Column       Non-Null Count  Dtype  \n",
      "---  ------       --------------  -----  \n",
      " 0   LifeExp2018  56 non-null     float64\n",
      " 1   LifeExp2010  56 non-null     float64\n",
      " 2   MaleLifeExp  56 non-null     float64\n",
      " 3   FemLifeExp   56 non-null     float64\n",
      "dtypes: float64(4)\n",
      "memory usage: 2.2+ KB\n"
     ]
    }
   ],
   "source": [
    "life_expectancy.info()"
   ]
  },
  {
   "cell_type": "code",
   "execution_count": 24,
   "metadata": {
    "ExecuteTime": {
     "end_time": "2020-11-28T22:22:04.947492Z",
     "start_time": "2020-11-28T22:22:04.875683Z"
    }
   },
   "outputs": [],
   "source": [
    "life_expectancy.to_csv(os.path.join(data_path, 'life_expectancy_clean.csv'))"
   ]
  },
  {
   "cell_type": "markdown",
   "metadata": {},
   "source": [
    "## Process Crime file"
   ]
  },
  {
   "cell_type": "code",
   "execution_count": 25,
   "metadata": {
    "ExecuteTime": {
     "end_time": "2020-11-28T22:22:05.069217Z",
     "start_time": "2020-11-28T22:22:04.950484Z"
    }
   },
   "outputs": [],
   "source": [
    "crime = pd.read_csv(crime_path, sep=';')"
   ]
  },
  {
   "cell_type": "code",
   "execution_count": 26,
   "metadata": {
    "ExecuteTime": {
     "end_time": "2020-11-28T22:22:05.077184Z",
     "start_time": "2020-11-28T22:22:05.071201Z"
    }
   },
   "outputs": [
    {
     "data": {
      "text/plain": [
       "Index(['State', 'Population\\n(total inhabitants) \\n(2015) [2]',\n",
       "       'Murders and\\nNonnegligent\\nManslaughter\\n(total deaths) \\n(2015) [1]',\n",
       "       'Murders\\n(total deaths) \\n(2015) [3]',\n",
       "       'Gun Murders\\n(total deaths) \\n(2015) [3]',\n",
       "       'Gun\\nOwnership\\n(%) \\n(2013) [4]',\n",
       "       'Murder and\\nNonnegligent\\nManslaughter\\nRate\\n(per 100,000) \\n(2015)',\n",
       "       'Murder Rate\\n(per 100,000) \\n(2015)',\n",
       "       'Gun\\nMurder Rate\\n(per 100,000) \\n(2015)'],\n",
       "      dtype='object')"
      ]
     },
     "execution_count": 26,
     "metadata": {},
     "output_type": "execute_result"
    }
   ],
   "source": [
    "crime.columns"
   ]
  },
  {
   "cell_type": "code",
   "execution_count": 27,
   "metadata": {
    "ExecuteTime": {
     "end_time": "2020-11-28T22:22:05.087157Z",
     "start_time": "2020-11-28T22:22:05.079179Z"
    }
   },
   "outputs": [
    {
     "data": {
      "text/plain": [
       "Index(['State', 'Population (total inhabitants) (2015) [2]',\n",
       "       'Murders and Nonnegligent Manslaughter (total deaths) (2015) [1]',\n",
       "       'Murders (total deaths) (2015) [3]',\n",
       "       'Gun Murders (total deaths) (2015) [3]', 'Gun Ownership (%) (2013) [4]',\n",
       "       'Murder and Nonnegligent Manslaughter Rate (per 100,000) (2015)',\n",
       "       'Murder Rate (per 100,000) (2015)',\n",
       "       'Gun Murder Rate (per 100,000) (2015)'],\n",
       "      dtype='object')"
      ]
     },
     "execution_count": 27,
     "metadata": {},
     "output_type": "execute_result"
    }
   ],
   "source": [
    "# remove '\\n' from column names\n",
    "crime.columns = [item.replace('\\n', ' ').replace('  ', ' ') for item in crime.columns]\n",
    "crime.columns"
   ]
  },
  {
   "cell_type": "code",
   "execution_count": 28,
   "metadata": {
    "ExecuteTime": {
     "end_time": "2020-11-28T22:22:05.095137Z",
     "start_time": "2020-11-28T22:22:05.089152Z"
    }
   },
   "outputs": [
    {
     "data": {
      "text/plain": [
       "(62, 9)"
      ]
     },
     "execution_count": 28,
     "metadata": {},
     "output_type": "execute_result"
    }
   ],
   "source": [
    "crime.shape"
   ]
  },
  {
   "cell_type": "code",
   "execution_count": 29,
   "metadata": {
    "ExecuteTime": {
     "end_time": "2020-11-28T22:22:05.108137Z",
     "start_time": "2020-11-28T22:22:05.098131Z"
    }
   },
   "outputs": [
    {
     "name": "stdout",
     "output_type": "stream",
     "text": [
      "<class 'pandas.core.frame.DataFrame'>\n",
      "RangeIndex: 62 entries, 0 to 61\n",
      "Data columns (total 9 columns):\n",
      " #   Column                                                           Non-Null Count  Dtype  \n",
      "---  ------                                                           --------------  -----  \n",
      " 0   State                                                            62 non-null     object \n",
      " 1   Population (total inhabitants) (2015) [2]                        51 non-null     object \n",
      " 2   Murders and Nonnegligent Manslaughter (total deaths) (2015) [1]  51 non-null     object \n",
      " 3   Murders (total deaths) (2015) [3]                                51 non-null     object \n",
      " 4   Gun Murders (total deaths) (2015) [3]                            51 non-null     object \n",
      " 5   Gun Ownership (%) (2013) [4]                                     51 non-null     float64\n",
      " 6   Murder and Nonnegligent Manslaughter Rate (per 100,000) (2015)   51 non-null     float64\n",
      " 7   Murder Rate (per 100,000) (2015)                                 51 non-null     object \n",
      " 8   Gun Murder Rate (per 100,000) (2015)                             51 non-null     object \n",
      "dtypes: float64(2), object(7)\n",
      "memory usage: 4.5+ KB\n"
     ]
    }
   ],
   "source": [
    "crime.info()"
   ]
  },
  {
   "cell_type": "code",
   "execution_count": 30,
   "metadata": {
    "ExecuteTime": {
     "end_time": "2020-11-28T22:22:05.150893Z",
     "start_time": "2020-11-28T22:22:05.110096Z"
    }
   },
   "outputs": [],
   "source": [
    "# remove empty rows\n",
    "non_empty_rows = crime[crime.columns[1:]].isna().sum(axis=1) == 0\n",
    "crime = crime[non_empty_rows]"
   ]
  },
  {
   "cell_type": "code",
   "execution_count": 31,
   "metadata": {
    "ExecuteTime": {
     "end_time": "2020-11-28T22:22:05.164824Z",
     "start_time": "2020-11-28T22:22:05.152857Z"
    }
   },
   "outputs": [
    {
     "name": "stdout",
     "output_type": "stream",
     "text": [
      "<class 'pandas.core.frame.DataFrame'>\n",
      "Index: 51 entries, Alabama to Wyoming\n",
      "Data columns (total 8 columns):\n",
      " #   Column                                                           Non-Null Count  Dtype  \n",
      "---  ------                                                           --------------  -----  \n",
      " 0   Population (total inhabitants) (2015) [2]                        51 non-null     object \n",
      " 1   Murders and Nonnegligent Manslaughter (total deaths) (2015) [1]  51 non-null     object \n",
      " 2   Murders (total deaths) (2015) [3]                                51 non-null     object \n",
      " 3   Gun Murders (total deaths) (2015) [3]                            51 non-null     object \n",
      " 4   Gun Ownership (%) (2013) [4]                                     51 non-null     float64\n",
      " 5   Murder and Nonnegligent Manslaughter Rate (per 100,000) (2015)   51 non-null     float64\n",
      " 6   Murder Rate (per 100,000) (2015)                                 51 non-null     object \n",
      " 7   Gun Murder Rate (per 100,000) (2015)                             51 non-null     object \n",
      "dtypes: float64(2), object(6)\n",
      "memory usage: 3.6+ KB\n"
     ]
    }
   ],
   "source": [
    "if 'State' in crime.columns:\n",
    "    crime.set_index('State', inplace=True)\n",
    "crime.info()"
   ]
  },
  {
   "cell_type": "code",
   "execution_count": 32,
   "metadata": {
    "ExecuteTime": {
     "end_time": "2020-11-28T22:22:05.171806Z",
     "start_time": "2020-11-28T22:22:05.166819Z"
    }
   },
   "outputs": [],
   "source": [
    "# check correctness of index values\n",
    "assert set(crime.index) == set(states).union(set(federal_district))"
   ]
  },
  {
   "cell_type": "code",
   "execution_count": 33,
   "metadata": {
    "ExecuteTime": {
     "end_time": "2020-11-28T22:22:05.182779Z",
     "start_time": "2020-11-28T22:22:05.173801Z"
    }
   },
   "outputs": [],
   "source": [
    "def str_to_float(val:str) -> np.float:\n",
    "    index_parant = val.find('[')\n",
    "    val = val[:index_parant].strip() if index_parant > 0 else val\n",
    "    try:\n",
    "        return float(val)\n",
    "    except:\n",
    "        return np.nan\n",
    "\n",
    "for column in crime.columns[1:]:\n",
    "    if crime[column].dtype != np.number:\n",
    "        crime[column] = crime[column].apply(lambda value: str_to_float(value))"
   ]
  },
  {
   "cell_type": "code",
   "execution_count": 34,
   "metadata": {
    "ExecuteTime": {
     "end_time": "2020-11-28T22:22:05.195744Z",
     "start_time": "2020-11-28T22:22:05.184804Z"
    }
   },
   "outputs": [
    {
     "name": "stdout",
     "output_type": "stream",
     "text": [
      "<class 'pandas.core.frame.DataFrame'>\n",
      "Index: 51 entries, Alabama to Wyoming\n",
      "Data columns (total 8 columns):\n",
      " #   Column                                                           Non-Null Count  Dtype  \n",
      "---  ------                                                           --------------  -----  \n",
      " 0   Population (total inhabitants) (2015) [2]                        51 non-null     object \n",
      " 1   Murders and Nonnegligent Manslaughter (total deaths) (2015) [1]  48 non-null     float64\n",
      " 2   Murders (total deaths) (2015) [3]                                47 non-null     float64\n",
      " 3   Gun Murders (total deaths) (2015) [3]                            48 non-null     float64\n",
      " 4   Gun Ownership (%) (2013) [4]                                     51 non-null     float64\n",
      " 5   Murder and Nonnegligent Manslaughter Rate (per 100,000) (2015)   51 non-null     float64\n",
      " 6   Murder Rate (per 100,000) (2015)                                 49 non-null     float64\n",
      " 7   Gun Murder Rate (per 100,000) (2015)                             49 non-null     float64\n",
      "dtypes: float64(7), object(1)\n",
      "memory usage: 3.6+ KB\n"
     ]
    }
   ],
   "source": [
    "crime.info()"
   ]
  },
  {
   "cell_type": "code",
   "execution_count": 35,
   "metadata": {
    "ExecuteTime": {
     "end_time": "2020-11-28T22:22:05.922381Z",
     "start_time": "2020-11-28T22:22:05.197737Z"
    }
   },
   "outputs": [],
   "source": [
    "crime.sort_index(inplace=True)\n",
    "crime.to_csv(os.path.join(data_path, 'crime_clean.csv'))"
   ]
  },
  {
   "cell_type": "markdown",
   "metadata": {},
   "source": [
    "## Process Area file"
   ]
  },
  {
   "cell_type": "code",
   "execution_count": 36,
   "metadata": {
    "ExecuteTime": {
     "end_time": "2020-11-28T22:22:06.006648Z",
     "start_time": "2020-11-28T22:22:05.925257Z"
    }
   },
   "outputs": [
    {
     "name": "stdout",
     "output_type": "stream",
     "text": [
      "<class 'pandas.core.frame.DataFrame'>\n",
      "RangeIndex: 50 entries, 0 to 49\n",
      "Data columns (total 12 columns):\n",
      " #   Column     Non-Null Count  Dtype  \n",
      "---  ------     --------------  -----  \n",
      " 0   State      50 non-null     object \n",
      " 1   TotalRank  50 non-null     int64  \n",
      " 2   TotalSqMi  50 non-null     float64\n",
      " 3   TotalKmQ   50 non-null     int64  \n",
      " 4   LandRank   50 non-null     int64  \n",
      " 5   LandSqMi   50 non-null     float64\n",
      " 6   LandKmQ    50 non-null     int64  \n",
      " 7   LandPer    50 non-null     float64\n",
      " 8   WaterRank  50 non-null     int64  \n",
      " 9   WaterSqMi  50 non-null     float64\n",
      " 10  WaterKmQ   50 non-null     int64  \n",
      " 11  WaterPer   50 non-null     float64\n",
      "dtypes: float64(5), int64(6), object(1)\n",
      "memory usage: 4.8+ KB\n"
     ]
    }
   ],
   "source": [
    "area = pd.read_csv(area_path, sep=';')\n",
    "area.info()"
   ]
  },
  {
   "cell_type": "code",
   "execution_count": 37,
   "metadata": {
    "ExecuteTime": {
     "end_time": "2020-11-28T22:22:06.013600Z",
     "start_time": "2020-11-28T22:22:06.008616Z"
    }
   },
   "outputs": [
    {
     "data": {
      "text/plain": [
       "(50, 12)"
      ]
     },
     "execution_count": 37,
     "metadata": {},
     "output_type": "execute_result"
    }
   ],
   "source": [
    "area.shape"
   ]
  },
  {
   "cell_type": "code",
   "execution_count": 38,
   "metadata": {
    "ExecuteTime": {
     "end_time": "2020-11-28T22:22:06.019586Z",
     "start_time": "2020-11-28T22:22:06.015593Z"
    }
   },
   "outputs": [],
   "source": [
    "if 'State' in area.columns:\n",
    "    area.set_index('State', inplace=True)\n",
    "assert set(area.index) == set(states)"
   ]
  },
  {
   "cell_type": "code",
   "execution_count": 39,
   "metadata": {
    "ExecuteTime": {
     "end_time": "2020-11-28T22:22:06.506985Z",
     "start_time": "2020-11-28T22:22:06.022576Z"
    }
   },
   "outputs": [],
   "source": [
    "area.sort_index(inplace=True)\n",
    "area.to_csv(os.path.join(data_path, 'area_clean.csv'))"
   ]
  },
  {
   "cell_type": "markdown",
   "metadata": {},
   "source": [
    "## Process Income file"
   ]
  },
  {
   "cell_type": "code",
   "execution_count": 40,
   "metadata": {
    "ExecuteTime": {
     "end_time": "2020-11-28T22:22:09.990659Z",
     "start_time": "2020-11-28T22:22:06.509862Z"
    }
   },
   "outputs": [],
   "source": [
    "income = pd.read_excel(income_path, skiprows=1, usecols= lambda column: 'Rank' not in column)"
   ]
  },
  {
   "cell_type": "code",
   "execution_count": 41,
   "metadata": {
    "ExecuteTime": {
     "end_time": "2020-11-28T22:22:10.010607Z",
     "start_time": "2020-11-28T22:22:09.993653Z"
    }
   },
   "outputs": [
    {
     "name": "stdout",
     "output_type": "stream",
     "text": [
      "<class 'pandas.core.frame.DataFrame'>\n",
      "RangeIndex: 51 entries, 0 to 50\n",
      "Data columns (total 12 columns):\n",
      " #   Column      Non-Null Count  Dtype \n",
      "---  ------      --------------  ----- \n",
      " 0   State       51 non-null     object\n",
      " 1   Income2017  51 non-null     int64 \n",
      " 2   Income2016  51 non-null     int64 \n",
      " 3   Income2015  51 non-null     int64 \n",
      " 4   Income2014  51 non-null     int64 \n",
      " 5   Income2013  51 non-null     int64 \n",
      " 6   Income2012  51 non-null     int64 \n",
      " 7   Income2011  51 non-null     int64 \n",
      " 8   Income2010  51 non-null     int64 \n",
      " 9   Income2009  51 non-null     int64 \n",
      " 10  Income2008  51 non-null     int64 \n",
      " 11  Income2007  51 non-null     int64 \n",
      "dtypes: int64(11), object(1)\n",
      "memory usage: 4.9+ KB\n"
     ]
    }
   ],
   "source": [
    "income.info()"
   ]
  },
  {
   "cell_type": "code",
   "execution_count": 42,
   "metadata": {
    "ExecuteTime": {
     "end_time": "2020-11-28T22:22:11.101572Z",
     "start_time": "2020-11-28T22:22:10.016590Z"
    }
   },
   "outputs": [],
   "source": [
    "if 'State' in income.columns:\n",
    "    income.set_index('State', inplace=True)\n",
    "income.sort_index(inplace=True)\n",
    "assert set(income.index) == set(states).union(set(federal_district))\n",
    "income.to_csv(os.path.join(data_path, 'income_clean.csv'))"
   ]
  },
  {
   "cell_type": "markdown",
   "metadata": {},
   "source": [
    "## Processing Region file"
   ]
  },
  {
   "cell_type": "code",
   "execution_count": 43,
   "metadata": {
    "ExecuteTime": {
     "end_time": "2020-11-28T22:22:11.282762Z",
     "start_time": "2020-11-28T22:22:11.103569Z"
    }
   },
   "outputs": [
    {
     "name": "stdout",
     "output_type": "stream",
     "text": [
      "<class 'pandas.core.frame.DataFrame'>\n",
      "Int64Index: 50 entries, 1 to 50\n",
      "Data columns (total 4 columns):\n",
      " #   Column    Non-Null Count  Dtype \n",
      "---  ------    --------------  ----- \n",
      " 0   Name      50 non-null     object\n",
      " 1   Abb       50 non-null     object\n",
      " 2   Region    50 non-null     object\n",
      " 3   Division  50 non-null     object\n",
      "dtypes: object(4)\n",
      "memory usage: 2.0+ KB\n"
     ]
    }
   ],
   "source": [
    "region = pd.read_csv(region_path, sep=r'\\s+')\n",
    "region.info()"
   ]
  },
  {
   "cell_type": "code",
   "execution_count": 44,
   "metadata": {
    "ExecuteTime": {
     "end_time": "2020-11-28T22:22:11.292736Z",
     "start_time": "2020-11-28T22:22:11.284759Z"
    }
   },
   "outputs": [],
   "source": [
    "if region.columns[0] == 'Name':\n",
    "    region.rename(columns={'Name': 'State'}, inplace=True)\n",
    "    \n",
    "region.set_index('State', inplace=True)\n",
    "region.sort_index(inplace=True)\n",
    "assert set(region.index) == set(states)"
   ]
  },
  {
   "cell_type": "code",
   "execution_count": 45,
   "metadata": {
    "ExecuteTime": {
     "end_time": "2020-11-28T22:22:11.304735Z",
     "start_time": "2020-11-28T22:22:11.295728Z"
    }
   },
   "outputs": [],
   "source": [
    "region.to_csv(os.path.join(data_path, 'region_clean.csv'))"
   ]
  },
  {
   "cell_type": "markdown",
   "metadata": {},
   "source": [
    "# Reports on datasets"
   ]
  },
  {
   "cell_type": "markdown",
   "metadata": {},
   "source": [
    " ## Data Collection Report"
   ]
  },
  {
   "cell_type": "markdown",
   "metadata": {},
   "source": [
    "Target:Examine the data for completeness: check if you have all the cases you need. If the datasets have different number of rows, explain where these differences are.\n",
    "Check if there are missing values and if that’s the case, list the states that have them.\n",
    "Data Quality Report: report your findings in the data quality report."
   ]
  },
  {
   "cell_type": "markdown",
   "metadata": {},
   "source": [
    "### Dataset Education"
   ]
  },
  {
   "cell_type": "markdown",
   "metadata": {},
   "source": [
    "Problems addressed:\n",
    "* The first row is semantically empty, it had to be skipped\n",
    "* The rank columns were skipped at reading\n",
    "* After reading the data, the column names were cleaned, with '\\n' replaced with space; this would help labels on plots etc\n",
    "* The column 'State, federal district, or territory' contained leading and trailing spaces, which had to be removed. The column was renamed to 'State'. \n",
    "* The row with 'United states' was removed from the dataset. \n",
    "* Excepting the State column, the other columns were supposed to contain numbers (percentages); they were converted from string to numbers (e.g. '30.7%' -> 0.307)\n",
    "* The index was set to state names (column State), the dataset was ordered by index.\n",
    "* We checked by an assertion that the index names is 50 states + federal_district + inhabited_territories"
   ]
  },
  {
   "cell_type": "markdown",
   "metadata": {},
   "source": [
    "### Dataset Life Expectancy"
   ]
  },
  {
   "cell_type": "markdown",
   "metadata": {},
   "source": [
    "Problems addressed:\n",
    "* The state names were prepended with space; we had to strip each value on this column.\n",
    "* The column LifeExp2018 was found to contain string values. The only case with a value not convertible to float was for row corresponding to 'United states'. We eliminated this row and further converted the column to floating point. \n",
    "* After this step, we got 56 rows: 50 states, District of Columbia, and inhabited territories"
   ]
  },
  {
   "cell_type": "markdown",
   "metadata": {},
   "source": [
    "### Dataset Crime"
   ]
  },
  {
   "cell_type": "markdown",
   "metadata": {},
   "source": [
    "Problems addressed:\n",
    "\tAfter reading, the column names were cleaned, with '\\n' replaced with space; this would help labels on plots etc\n",
    "\tThe last few rows were semantically empty, we removed them; the emptyness was seen by both eyebaling the source file, and comparing the # of rows (62) with the number of non-null values reported by the info method:\n",
    "    \n",
    " 0   State                                                            62 non-null     object \n",
    " 1   Population (total inhabitants) (2015) [2]                        51 non-null     object \n",
    " 2   Murders and Nonnegligent Manslaughter (total deaths) (2015) [1]  51 non-null     object \n",
    " 3   Murders (total deaths) (2015) [3]                                51 non-null     object \n",
    " 4   Gun Murders (total deaths) (2015) [3]                            51 non-null     object \n",
    " 5   Gun Ownership (%) (2013) [4]                                     51 non-null     float64\n",
    " 6   Murder and Nonnegligent Manslaughter Rate (per 100,000) (2015)   51 non-null     float64\n",
    " 7   Murder Rate (per 100,000) (2015)                                 51 non-null     object \n",
    " 8   Gun Murder Rate (per 100,000) (2015)                             51 non-null     object \n",
    " \n",
    "The column 'State' was further used as index.\n",
    "\n",
    "Excepting columns: 'Gun Ownership (%) (2013) [4]' and 'Murder and Nonnegligent Manslaughter Rate (per 100,000) (2015)', all other columns were of type String. Directly converting them to float did not work, one had to perform a complex custom parse. Still, there were some cases for which the values could not be converted and they were replaced witn NaN. "
   ]
  },
  {
   "cell_type": "markdown",
   "metadata": {},
   "source": [
    "### Dataset Area\n",
    "We've got 50 rows, corresponding to the states.\n",
    "There no issues with data types. No missing value was found."
   ]
  },
  {
   "cell_type": "markdown",
   "metadata": {},
   "source": [
    "### Dataset Income\n",
    "The Income dataset was provided as an excel file. 50 states and district of Columbia are given in this file. The rank columns were skipped during load of teh file. There are no missing values. No special issue was encountered during data processing."
   ]
  },
  {
   "cell_type": "markdown",
   "metadata": {},
   "source": [
    "### Dataset Region \n",
    "This is a text file, with columns separated by multiple spaces. There are 4 columns of type string."
   ]
  },
  {
   "cell_type": "markdown",
   "metadata": {},
   "source": [
    "## Dataset description\n",
    "Data Description Report: describe the data you acquired, the number of rows of the dataframes, the column you used as index, and the structure of each dataframe (column name, type, and description). Write the data description report. This information can serve other data scientists who want to use your study."
   ]
  },
  {
   "cell_type": "markdown",
   "metadata": {},
   "source": [
    "### Dataset Education\n",
    "Acquired data: a dataframe of shape (51, 3). There are 50 states and 'District of Columbia'\n",
    "\n",
    "The index is State, the dataset is ordered by index.\n",
    "\n",
    "All three columns are of type floating point, with non-null values.\n",
    "\n",
    "The column \"% High school graduate or higher\" contains the percentage of people with high school or higher education.\n",
    "The column \"% Bachelor's degree or higher\" contains the percentage of people with bachelor degree or higher education.\n",
    "The column \"% Advanced degree\" contains the percentage of people with higher education."
   ]
  },
  {
   "cell_type": "markdown",
   "metadata": {},
   "source": [
    "### Dataset Life Expectancy\n",
    "Initially data acquired: a dataframe of shape (57, 5).\n",
    "The columns were:\n",
    "'State', of type string; name of the state, region of District of Columbia; some values prepended with space\n",
    "'LifeExp2018', of type string; supposed to contain life expectancy in 2018, the row corresponding to 'United States' contained a value which could not be parsed to float.\n",
    "'LifeExp2010', of type float64; life expectancy in 2010\n",
    "'MaleLifeExp', of type float64; the header is self-explanatory\n",
    "'FemLifeExp', of type float64; the header is self-explanatory\n",
    "\n",
    "We eliminated the row with State='United States'. The remaining rows corresponds to 50 states, District of Columbia, and inhabited territories. \n",
    "The column State was further used as index. "
   ]
  },
  {
   "cell_type": "markdown",
   "metadata": {},
   "source": [
    "### Dataset Crime\n",
    "\n",
    "Initially, the number of rows was 62. There were some empty rows. After their removal we got 50 rows, one for each state\n",
    "The initial data structure was:\n",
    "Data columns (total 9 columns):\n",
    " \\#   Column                                                           Non-Null Count  Dtype  \n",
    "---  ------                                                           --------------  -----  \n",
    " 0   State                                                            62 non-null     object \n",
    " 1   Population (total inhabitants) (2015) [2]                        51 non-null     object \n",
    " 2   Murders and Nonnegligent Manslaughter (total deaths) (2015) [1]  51 non-null     object \n",
    " 3   Murders (total deaths) (2015) [3]                                51 non-null     object \n",
    " 4   Gun Murders (total deaths) (2015) [3]                            51 non-null     object \n",
    " 5   Gun Ownership (%) (2013) [4]                                     51 non-null     float64\n",
    " 6   Murder and Nonnegligent Manslaughter Rate (per 100,000) (2015)   51 non-null     float64\n",
    " 7   Murder Rate (per 100,000) (2015)                                 51 non-null     object \n",
    " 8   Gun Murder Rate (per 100,000) (2015)                             51 non-null     object \n",
    "The column 'State' was further used as index\n",
    "\n",
    "The object columns (excepting State) were converted to float. Not all values could be casted as such, and they were replaced with NaNs."
   ]
  },
  {
   "cell_type": "markdown",
   "metadata": {},
   "source": [
    "### Dataset Area\n",
    "The dataset shape is (50, 12). Each row correspond to a state.  The columns are:\n",
    "The initial columns are:\n",
    "\n",
    "* State: name of the state                              \n",
    "* TotalRank: total area rank  \n",
    "* TotalSqMi: total area in SqMi\n",
    "* TotalKmQ: total area in KmQ\n",
    "* LandRank: land area rank\n",
    "* LandSqMi: land area in SqMi \n",
    "* LandKmQ: land area in KmQ\n",
    "* LandPer: land area percentage \n",
    "* WaterRank: water area rank\n",
    "* WaterSqMi: water area in SqMi\n",
    "* WaterKmQ: water area in KmQ\n",
    "* WaterPer: water area percentage\n",
    "The column 'State' was further used as index"
   ]
  },
  {
   "cell_type": "markdown",
   "metadata": {},
   "source": [
    "### Income\n",
    "The Income datasets has the columns (excepting the one called Rank):\n",
    "\n",
    "* Income2017  51 non-null     int64 \n",
    "* Income2016  51 non-null     int64 \n",
    "* Income2015  51 non-null     int64 \n",
    "* Income2014  51 non-null     int64 \n",
    "* Income2013  51 non-null     int64 \n",
    "* Income2012  51 non-null     int64 \n",
    "* Income2011  51 non-null     int64 \n",
    "* Income2010  51 non-null     int64 \n",
    "* Income2009  51 non-null     int64 \n",
    "* Income2008  51 non-null     int64 \n",
    "* Income2007  51 non-null     int64 \n",
    " \n",
    "There are no missing values. The column 'State' was further used as index."
   ]
  },
  {
   "cell_type": "markdown",
   "metadata": {},
   "source": [
    "### Dataset Region\n",
    "\n",
    "There are 50 rows in this dataset, one for each state. The data are in the end indexed by column 'Name', renamed as 'State'. The other three columns are:\n",
    "* Abb: abbreviation of the name of the state\n",
    "* Region: the region that each state belongs to (Northeast, South, North Central, West)\n",
    "* Division: state divisions (New England, Middle Atlantic, South Atlantic, East South Central, West South Central, East North Central, West North Central, Mountain, and Pacific)\n",
    "\n",
    "There are no missing values. "
   ]
  },
  {
   "cell_type": "markdown",
   "metadata": {},
   "source": [
    "## Data Quality"
   ]
  },
  {
   "cell_type": "markdown",
   "metadata": {},
   "source": [
    "### Dataset Education\n",
    "\n",
    "All the values are known (i.e., no null/nans). \n",
    "There are 50 rows (one for each state) and yet another one for District of Columbia.\n",
    "The cleaned dataset is saved as education_clean.csv\n",
    "\n",
    "Life Expectancy\n",
    "The value for row United States and column LifeExp2018 was not parseable to a float, but the whole row was eliminated (not a state itself)\n",
    "All other values were known. \n",
    "Unlike the Education dataset, it contains values for District of Columbia and 5 inhabitted regions as well.\n",
    "The cleaned dataset was saved as life_expectancy_clean.csv\n"
   ]
  },
  {
   "cell_type": "markdown",
   "metadata": {},
   "source": [
    "### Dataset Crime"
   ]
  },
  {
   "cell_type": "markdown",
   "metadata": {},
   "source": [
    "After removing the trailing empty rows, the dataset remained with 51 records (50 states + District of Columbia). \n",
    "There are some missing values in the 8 columns, after trying to convert them to floating points:\n",
    "Data columns (total 8 columns):\n",
    "\n",
    " \\# Column                                                           Non-Null Count  Dtype  \n",
    "---  ------                                                           --------------  -----  \n",
    " 0   Population (total inhabitants) (2015) [2]                        51 non-null     object \n",
    " 1   Murders and Nonnegligent Manslaughter (total deaths) (2015) [1]  51 non-null     object \n",
    " 2   Murders (total deaths) (2015) [3]                                51 non-null     object \n",
    " 3   Gun Murders (total deaths) (2015) [3]                            51 non-null     object \n",
    " 4   Gun Ownership (%) (2013) [4]                                     51 non-null     float64\n",
    " 5   Murder and Nonnegligent Manslaughter Rate (per 100,000) (2015)   51 non-null     float64\n",
    " 6   Murder Rate (per 100,000) (2015)                                 51 non-null     object \n",
    " 7   Gun Murder Rate (per 100,000) (2015)                             51 non-null     object \n",
    " \n",
    "Most of the values were convertible to float; what could not be converted was replaced with NaNs.\n",
    "\n",
    "The status of the columns is:\n",
    " 0   Population (total inhabitants) (2015) [2]                        51 non-null     object \n",
    " 1   Murders and Nonnegligent Manslaughter (total deaths) (2015) [1]  48 non-null     float64\n",
    " 2   Murders (total deaths) (2015) [3]                                47 non-null     float64\n",
    " 3   Gun Murders (total deaths) (2015) [3]                            48 non-null     float64\n",
    " 4   Gun Ownership (%) (2013) [4]                                     51 non-null     float64\n",
    " 5   Murder and Nonnegligent Manslaughter Rate (per 100,000) (2015)   51 non-null     float64\n",
    " 6   Murder Rate (per 100,000) (2015)                                 49 non-null     float64\n",
    " 7   Gun Murder Rate (per 100,000) (2015)                             49 non-null     float64\n",
    "\n",
    "The resulted dataset was saved as crime_clean.csv"
   ]
  },
  {
   "cell_type": "markdown",
   "metadata": {},
   "source": [
    "### Dataset Area"
   ]
  },
  {
   "cell_type": "markdown",
   "metadata": {},
   "source": [
    "The dataset contains values for all 50 states. There are no missing values. \n",
    "The cleaned dataset was saved as area_clean.csv."
   ]
  },
  {
   "cell_type": "markdown",
   "metadata": {},
   "source": [
    "### Dataset Income\n",
    "The dataset contains values for all 50 states. There are no missing values. \n",
    "The cleaned dataset was saved as income_clean.csv."
   ]
  },
  {
   "cell_type": "markdown",
   "metadata": {},
   "source": [
    "### Dataset Region\n",
    "The dataset contains values for all 50 states. There are no missing values. \n",
    "The cleaned dataset was saved as ergion_clean.csv."
   ]
  }
 ],
 "metadata": {
  "kernelspec": {
   "display_name": "Python 3",
   "language": "python",
   "name": "python3"
  },
  "language_info": {
   "codemirror_mode": {
    "name": "ipython",
    "version": 3
   },
   "file_extension": ".py",
   "mimetype": "text/x-python",
   "name": "python",
   "nbconvert_exporter": "python",
   "pygments_lexer": "ipython3",
   "version": "3.7.9"
  },
  "notify_time": "5",
  "toc": {
   "base_numbering": 1,
   "nav_menu": {},
   "number_sections": true,
   "sideBar": true,
   "skip_h1_title": false,
   "title_cell": "Table of Contents",
   "title_sidebar": "Contents",
   "toc_cell": false,
   "toc_position": {},
   "toc_section_display": true,
   "toc_window_display": true
  }
 },
 "nbformat": 4,
 "nbformat_minor": 4
}
